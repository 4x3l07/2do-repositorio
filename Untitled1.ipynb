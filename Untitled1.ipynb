{
  "nbformat": 4,
  "nbformat_minor": 0,
  "metadata": {
    "colab": {
      "provenance": [],
      "authorship_tag": "ABX9TyNHmlqEsfBDAPsjCx1/vuxr",
      "include_colab_link": true
    },
    "kernelspec": {
      "name": "python3",
      "display_name": "Python 3"
    },
    "language_info": {
      "name": "python"
    }
  },
  "cells": [
    {
      "cell_type": "markdown",
      "metadata": {
        "id": "view-in-github",
        "colab_type": "text"
      },
      "source": [
        "<a href=\"https://colab.research.google.com/github/4x3l07/2do-repositorio/blob/main/Untitled1.ipynb\" target=\"_parent\"><img src=\"https://colab.research.google.com/assets/colab-badge.svg\" alt=\"Open In Colab\"/></a>"
      ]
    },
    {
      "cell_type": "markdown",
      "source": [
        "FUNCIONES_MODULOS_PAQUETES  \n",
        "\n",
        "f-string les permite incluir el valor de las expresiones dentro de una cadena prefijando la cadena con f minuscula y escribiendo expresiones como {expresiones}"
      ],
      "metadata": {
        "id": "4Vv4TNxC-CYI"
      }
    },
    {
      "cell_type": "code",
      "execution_count": 1,
      "metadata": {
        "id": "7KvCxxKU9fVB"
      },
      "outputs": [],
      "source": [
        "def suma3y5():\n",
        "  print(f\"el resultado es {3+5}\")"
      ]
    },
    {
      "cell_type": "code",
      "source": [
        "suma3y5()"
      ],
      "metadata": {
        "colab": {
          "base_uri": "https://localhost:8080/"
        },
        "id": "0NHOJiOI-z4i",
        "outputId": "64684987-9f74-4110-a555-79d7a239bb2f"
      },
      "execution_count": 2,
      "outputs": [
        {
          "output_type": "stream",
          "name": "stdout",
          "text": [
            "el resultado es 8\n"
          ]
        }
      ]
    },
    {
      "cell_type": "markdown",
      "source": [
        "tenemos el siguiente codigo \n",
        "\n",
        "seleccionar la respuesta correcta:\n",
        "\n",
        "1)obtenemos 6 en pantalla\n",
        "\n",
        "2)no aparece nada en pantalla \n",
        "\n",
        "3)aparece \"el resultado es 6\" en la pantalla\n",
        "\n",
        "4)obtenemos error"
      ],
      "metadata": {
        "id": "mWp0e-4o-4GU"
      }
    },
    {
      "cell_type": "code",
      "source": [
        "def suma3y3():\n",
        "  print(f\"el resultado es {3+3}\")"
      ],
      "metadata": {
        "id": "HNexQzX-_0YK"
      },
      "execution_count": 3,
      "outputs": []
    },
    {
      "cell_type": "code",
      "source": [
        "suma3y3()"
      ],
      "metadata": {
        "colab": {
          "base_uri": "https://localhost:8080/"
        },
        "id": "Co8HULvWAxu5",
        "outputId": "36bc1820-d764-428a-edaf-60d12807a7ec"
      },
      "execution_count": 4,
      "outputs": [
        {
          "output_type": "stream",
          "name": "stdout",
          "text": [
            "el resultado es 6\n"
          ]
        }
      ]
    },
    {
      "cell_type": "markdown",
      "source": [
        "la opcion correcta es 6"
      ],
      "metadata": {
        "id": "U5YbaBWOBkMx"
      }
    },
    {
      "cell_type": "code",
      "source": [
        "def suma(sumando1,sumando2):#sumando1 y sumando2 son los parametros de la funcion\n",
        "  print(F\"el resultado es {sumando1+sumando2}\")\n",
        "\n",
        "#los parametros nos dan la versatilidad \n",
        "suma(3,7)"
      ],
      "metadata": {
        "colab": {
          "base_uri": "https://localhost:8080/"
        },
        "id": "0XJa49eQCUHv",
        "outputId": "70368bc2-cdc9-429c-ed9d-bf7dbbfe6510"
      },
      "execution_count": 6,
      "outputs": [
        {
          "output_type": "stream",
          "name": "stdout",
          "text": [
            "el resultado es 10\n"
          ]
        }
      ]
    },
    {
      "cell_type": "markdown",
      "source": [
        "la opcion correcta es 10 "
      ],
      "metadata": {
        "id": "KFS6yOsrDnkh"
      }
    },
    {
      "cell_type": "markdown",
      "source": [
        "VARIABLES GLOBALES "
      ],
      "metadata": {
        "id": "RKX7wPPIDu6k"
      }
    },
    {
      "cell_type": "code",
      "source": [
        "variableglobal=7"
      ],
      "metadata": {
        "id": "9XmyfpJ-EHkD"
      },
      "execution_count": 15,
      "outputs": []
    },
    {
      "cell_type": "code",
      "source": [
        "def contextodefuncion(parametro):\n",
        "\n",
        "  variable=7\n",
        "  print(f\"la variable que hemos definido antes valia {variableglobal}\")\n",
        "  print(f\"el valor de la variable local es {variable}\")\n",
        "  print(f\"el parametro con el que llamamos a la funcion vale {parametro}\")\n",
        "contextodefuncion(\"entrada\")\n"
      ],
      "metadata": {
        "colab": {
          "base_uri": "https://localhost:8080/"
        },
        "id": "WSrsqvuNEMhT",
        "outputId": "2624b918-7cdc-436c-d6d0-053fc5bee331"
      },
      "execution_count": 9,
      "outputs": [
        {
          "output_type": "stream",
          "name": "stdout",
          "text": [
            "la variable que hemos definido antes valia 7\n",
            "el valor de la variable local es 7\n",
            "el parametro con el que llamamos a la funcion vale entrada\n"
          ]
        }
      ]
    },
    {
      "cell_type": "code",
      "source": [
        "print(f\"la variable que hemos definido antes valia {variableglobal}\")"
      ],
      "metadata": {
        "colab": {
          "base_uri": "https://localhost:8080/"
        },
        "id": "dEqhLHMAGm3h",
        "outputId": "e6ef7488-4846-485e-f001-9f707873a0f3"
      },
      "execution_count": 10,
      "outputs": [
        {
          "output_type": "stream",
          "name": "stdout",
          "text": [
            "la variable que hemos definido antes valia 7\n"
          ]
        }
      ]
    },
    {
      "cell_type": "code",
      "source": [
        "print(f\"el valor de la variable local es {variable}\")"
      ],
      "metadata": {
        "colab": {
          "base_uri": "https://localhost:8080/",
          "height": 165
        },
        "id": "vvzJLk34Gsio",
        "outputId": "e738e44b-fbbf-4417-89a7-0e78e7e70582"
      },
      "execution_count": 21,
      "outputs": [
        {
          "output_type": "error",
          "ename": "NameError",
          "evalue": "ignored",
          "traceback": [
            "\u001b[0;31m---------------------------------------------------------------------------\u001b[0m",
            "\u001b[0;31mNameError\u001b[0m                                 Traceback (most recent call last)",
            "\u001b[0;32m<ipython-input-21-7de3bab04343>\u001b[0m in \u001b[0;36m<module>\u001b[0;34m\u001b[0m\n\u001b[0;32m----> 1\u001b[0;31m \u001b[0mprint\u001b[0m\u001b[0;34m(\u001b[0m\u001b[0;34mf\"el valor de la variable local es {variable}\"\u001b[0m\u001b[0;34m)\u001b[0m\u001b[0;34m\u001b[0m\u001b[0;34m\u001b[0m\u001b[0m\n\u001b[0m",
            "\u001b[0;31mNameError\u001b[0m: name 'variable' is not defined"
          ]
        }
      ]
    },
    {
      "cell_type": "code",
      "source": [
        "print(f\"el parametro con el que llamamos a la funcion vale {parametro}\")"
      ],
      "metadata": {
        "colab": {
          "base_uri": "https://localhost:8080/",
          "height": 165
        },
        "id": "v1T_RtzxGwbI",
        "outputId": "85f78a81-af61-4d16-fbec-27c89f443abc"
      },
      "execution_count": 22,
      "outputs": [
        {
          "output_type": "error",
          "ename": "NameError",
          "evalue": "ignored",
          "traceback": [
            "\u001b[0;31m---------------------------------------------------------------------------\u001b[0m",
            "\u001b[0;31mNameError\u001b[0m                                 Traceback (most recent call last)",
            "\u001b[0;32m<ipython-input-22-b4d0d4e8b83c>\u001b[0m in \u001b[0;36m<module>\u001b[0;34m\u001b[0m\n\u001b[0;32m----> 1\u001b[0;31m \u001b[0mprint\u001b[0m\u001b[0;34m(\u001b[0m\u001b[0;34mf\"el parametro con el que llamamos a la funcion vale {parametro}\"\u001b[0m\u001b[0;34m)\u001b[0m\u001b[0;34m\u001b[0m\u001b[0;34m\u001b[0m\u001b[0m\n\u001b[0m",
            "\u001b[0;31mNameError\u001b[0m: name 'parametro' is not defined"
          ]
        }
      ]
    },
    {
      "cell_type": "markdown",
      "source": [
        "Se pueden modificar variables globales dentro de funciones usando el indicador global "
      ],
      "metadata": {
        "id": "UvtfmYXtG7XX"
      }
    },
    {
      "cell_type": "code",
      "source": [
        "def mifuncionglobal():\n",
        "  print(variableglobal)\n",
        "mifuncionglobal() #llamamos a la funcion para que nos muestre los resultados "
      ],
      "metadata": {
        "colab": {
          "base_uri": "https://localhost:8080/"
        },
        "id": "9_2HZa_-HCqj",
        "outputId": "b2561063-d6e5-4816-96a2-9f4bd3290fdc"
      },
      "execution_count": 43,
      "outputs": [
        {
          "output_type": "stream",
          "name": "stdout",
          "text": [
            "19\n"
          ]
        }
      ]
    },
    {
      "cell_type": "code",
      "source": [
        "def mifuncionglobal():\n",
        "  global variableglobal \n",
        "  variableglobal=variableglobal+3\n",
        "  print(variableglobal)\n",
        "mifuncionglobal()"
      ],
      "metadata": {
        "colab": {
          "base_uri": "https://localhost:8080/"
        },
        "id": "WQfMHDClKAFk",
        "outputId": "1aa6e689-97f1-4e01-fbef-73ae5c408429"
      },
      "execution_count": 42,
      "outputs": [
        {
          "output_type": "stream",
          "name": "stdout",
          "text": [
            "19\n"
          ]
        }
      ]
    }
  ]
}